{
 "cells": [
  {
   "cell_type": "code",
   "execution_count": 29,
   "metadata": {},
   "outputs": [
    {
     "name": "stdout",
     "output_type": "stream",
     "text": [
      "100\n",
      "(80, 20, 1)\n",
      "(80, 1)\n",
      "(80, 20, 1)\n"
     ]
    }
   ],
   "source": [
    "import db\n",
    "import LSTM_utils\n",
    "import pprint\n",
    "import json\n",
    "from pprint import pprint\n",
    "from numpy import array\n",
    "\n",
    "data = db.get_symbol('/ES', 100)\n",
    "\n",
    "n_steps = 20\n",
    "\n",
    "\n",
    "\"\"\" Split the data into sequences \"\"\"\n",
    "X, y, = LSTM_utils.split_sequence(data, n_steps)\n",
    "\n",
    "print(X.shape)\n",
    "print(y.shape)\n",
    "\n",
    "# reshape from [samples, timesteps] into [samples, timesteps, features]\n",
    "n_features = 1\n",
    "# X = X.reshape((X.shape[0], X.shape[1], n_features))\n",
    "print(X.shape)"
   ]
  },
  {
   "cell_type": "code",
   "execution_count": 27,
   "metadata": {},
   "outputs": [],
   "source": [
    "univar_LSTM_model = LSTM_utils.uni_variant_LSTM(X, y, n_steps, n_features)\n",
    "\n"
   ]
  },
  {
   "cell_type": "code",
   "execution_count": 32,
   "metadata": {},
   "outputs": [
    {
     "name": "stdout",
     "output_type": "stream",
     "text": [
      "array([[[2923.75],\n",
      "        [2923.75],\n",
      "        [2922.25],\n",
      "        [2922.25],\n",
      "        [2922.5 ],\n",
      "        [2922.5 ],\n",
      "        [2923.  ],\n",
      "        [2922.5 ],\n",
      "        [2922.5 ],\n",
      "        [2922.5 ],\n",
      "        [2922.5 ],\n",
      "        [2921.5 ],\n",
      "        [2921.25],\n",
      "        [2921.25],\n",
      "        [2921.75],\n",
      "        [2921.75],\n",
      "        [2922.  ],\n",
      "        [2922.25],\n",
      "        [2922.25],\n",
      "        [2922.5 ]]])\n"
     ]
    }
   ],
   "source": [
    "\"\"\" making test data \"\"\"\n",
    "test_x = []\n",
    "for i in range(len(data[80:])):\n",
    "  tmp = [data[i]['close']]\n",
    "  test_x.append(tmp)\n",
    "test_x = array(test_x)\n",
    "\n",
    "test_x = test_x.reshape((1, 20, 1))\n",
    "\n",
    "pprint(test_x)\n"
   ]
  },
  {
   "cell_type": "code",
   "execution_count": 37,
   "metadata": {},
   "outputs": [
    {
     "data": {
      "text/plain": [
       "array([[2922.682]], dtype=float32)"
      ]
     },
     "execution_count": 37,
     "metadata": {},
     "output_type": "execute_result"
    }
   ],
   "source": [
    "univar_LSTM_model.predict(test_x, verbose=0)"
   ]
  },
  {
   "cell_type": "code",
   "execution_count": null,
   "metadata": {},
   "outputs": [],
   "source": []
  },
  {
   "cell_type": "code",
   "execution_count": null,
   "metadata": {},
   "outputs": [],
   "source": []
  },
  {
   "cell_type": "code",
   "execution_count": null,
   "metadata": {},
   "outputs": [],
   "source": []
  }
 ],
 "metadata": {
  "kernelspec": {
   "display_name": "Python 3",
   "language": "python",
   "name": "python3"
  },
  "language_info": {
   "codemirror_mode": {
    "name": "ipython",
    "version": 3
   },
   "file_extension": ".py",
   "mimetype": "text/x-python",
   "name": "python",
   "nbconvert_exporter": "python",
   "pygments_lexer": "ipython3",
   "version": "3.6.8"
  }
 },
 "nbformat": 4,
 "nbformat_minor": 2
}
