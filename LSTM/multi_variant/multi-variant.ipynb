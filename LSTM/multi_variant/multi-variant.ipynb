{
 "cells": [
  {
   "cell_type": "code",
   "execution_count": 100,
   "metadata": {},
   "outputs": [],
   "source": [
    "import db\n",
    "import LSTM_utils\n",
    "import pprint\n",
    "from pprint import pprint\n",
    "import numpy as np\n",
    "from numpy import array\n",
    "from numpy import hstack\n",
    "import pandas as pd\n",
    "import datetime\n"
   ]
  },
  {
   "cell_type": "code",
   "execution_count": 85,
   "metadata": {},
   "outputs": [],
   "source": [
    "sym_array = ['/ES', '/CL', '/GC']\n",
    "main_df = pd.DataFrame()\n",
    "\"\"\" request data from DB \"\"\"\n",
    "for sym in sym_array:\n",
    "  data = db.get_symbol(sym, 10)\n",
    "#   pprint(data)\n",
    "  sym = sym[1:]\n",
    "  df = pd.DataFrame.from_dict(data).drop(['start_timestamp'], axis=1).rename(columns={\"open\":f\"{sym}_open\", \"high\":f\"{sym}_high\", \"low\":f\"{sym}_low\", \"close\":f\"{sym}_close\", \"volume\":f\"{sym}_volume\"})\n",
    "\n",
    "  if(len(main_df) == 0):\n",
    "    main_df = df\n",
    "  else:\n",
    "    main_df = main_df.join(df)"
   ]
  },
  {
   "cell_type": "code",
   "execution_count": 69,
   "metadata": {},
   "outputs": [
    {
     "name": "stdout",
     "output_type": "stream",
     "text": [
      "[[[2963.75]\n",
      "  [2963.5 ]\n",
      "  [2963.75]]\n",
      "\n",
      " [[2963.5 ]\n",
      "  [2963.75]\n",
      "  [2964.  ]]\n",
      "\n",
      " [[2963.75]\n",
      "  [2964.  ]\n",
      "  [2977.25]]]\n",
      "[[2964.  ]\n",
      " [2977.25]\n",
      " [2977.25]]\n",
      "(3, 3, 1)\n",
      "(1, 3, 1)\n",
      "[[[2964.  ]\n",
      "  [2977.25]\n",
      "  [2977.25]]]\n"
     ]
    }
   ],
   "source": [
    "n_steps = 3\n",
    "\n",
    "es_X, es_y, = LSTM_utils.split_sequence(es_data, n_steps)\n",
    "cl_X, cl_y, = LSTM_utils.split_sequence(cl_data, n_steps)\n",
    "gc_X, gc_y, = LSTM_utils.split_sequence(gc_data, n_steps)\n",
    "print(es_X)\n",
    "print(es_y)\n",
    "print(es_X.shape)#(80, 20, 1)\n",
    "\n",
    "es_y = es_y.reshape(1, len(es_y), 1)\n",
    "print(es_y.shape)#(80, 1)\n",
    "print(es_y)"
   ]
  },
  {
   "cell_type": "code",
   "execution_count": 91,
   "metadata": {},
   "outputs": [
    {
     "name": "stdout",
     "output_type": "stream",
     "text": [
      "(7, 3, 2) (7,)\n",
      "array([[[10, 15],\n",
      "        [20, 25],\n",
      "        [30, 35]],\n",
      "\n",
      "       [[20, 25],\n",
      "        [30, 35],\n",
      "        [40, 45]],\n",
      "\n",
      "       [[30, 35],\n",
      "        [40, 45],\n",
      "        [50, 55]],\n",
      "\n",
      "       [[40, 45],\n",
      "        [50, 55],\n",
      "        [60, 65]],\n",
      "\n",
      "       [[50, 55],\n",
      "        [60, 65],\n",
      "        [70, 75]],\n",
      "\n",
      "       [[60, 65],\n",
      "        [70, 75],\n",
      "        [80, 85]],\n",
      "\n",
      "       [[70, 75],\n",
      "        [80, 85],\n",
      "        [90, 95]]])\n",
      "array([ 65,  85, 105, 125, 145, 165, 185])\n"
     ]
    }
   ],
   "source": [
    "\n",
    "# multivariate data preparation\n",
    "from numpy import array\n",
    "from numpy import hstack\n",
    " \n",
    "# split a multivariate sequence into samples\n",
    "def split_sequences(sequences, n_steps):\n",
    "\tX, y = list(), list()\n",
    "\tfor i in range(len(sequences)):\n",
    "\t\t# find the end of this pattern\n",
    "\t\tend_ix = i + n_steps\n",
    "\t\t# check if we are beyond the dataset\n",
    "\t\tif end_ix > len(sequences):\n",
    "\t\t\tbreak\n",
    "\t\t# gather input and output parts of the pattern\n",
    "\t\tseq_x, seq_y = sequences[i:end_ix, :-1], sequences[end_ix-1, -1]\n",
    "\t\tX.append(seq_x)\n",
    "\t\ty.append(seq_y)\n",
    "\treturn array(X), array(y)\n",
    " \n",
    "# define input sequence\n",
    "in_seq1 = array([10, 20, 30, 40, 50, 60, 70, 80, 90])\n",
    "in_seq2 = array([15, 25, 35, 45, 55, 65, 75, 85, 95])\n",
    "out_seq = array([in_seq1[i]+in_seq2[i] for i in range(len(in_seq1))])\n",
    "# convert to [rows, columns] structure\n",
    "in_seq1 = in_seq1.reshape((len(in_seq1), 1))\n",
    "in_seq2 = in_seq2.reshape((len(in_seq2), 1))\n",
    "out_seq = out_seq.reshape((len(out_seq), 1))\n",
    "# horizontally stack columns\n",
    "dataset = hstack((in_seq1, in_seq2, out_seq))\n",
    "# choose a number of time steps\n",
    "n_steps = 3\n",
    "# convert into input/output\n",
    "X, y = split_sequences(dataset, n_steps)\n",
    "print(X.shape, y.shape)\n",
    "# summarize the data\n",
    "pprint(X)\n",
    "pprint(y)\n"
   ]
  },
  {
   "cell_type": "code",
   "execution_count": null,
   "metadata": {},
   "outputs": [],
   "source": [
    "\n"
   ]
  },
  {
   "cell_type": "code",
   "execution_count": 116,
   "metadata": {},
   "outputs": [],
   "source": [
    "d = [[i for i in range(100)]]\n",
    "# d = [i for i in range(100)]"
   ]
  },
  {
   "cell_type": "code",
   "execution_count": 117,
   "metadata": {},
   "outputs": [
    {
     "name": "stdout",
     "output_type": "stream",
     "text": [
      "[[0, 1, 2, 3, 4, 5, 6, 7, 8, 9, 10, 11, 12, 13, 14, 15, 16, 17, 18, 19, 20, 21, 22, 23, 24, 25, 26, 27, 28, 29, 30, 31, 32, 33, 34, 35, 36, 37, 38, 39, 40, 41, 42, 43, 44, 45, 46, 47, 48, 49, 50, 51, 52, 53, 54, 55, 56, 57, 58, 59, 60, 61, 62, 63, 64, 65, 66, 67, 68, 69, 70, 71, 72, 73, 74, 75, 76, 77, 78, 79, 80, 81, 82, 83, 84, 85, 86, 87, 88, 89, 90, 91, 92, 93, 94, 95, 96, 97, 98, 99]]\n"
     ]
    }
   ],
   "source": [
    "print(d)"
   ]
  },
  {
   "cell_type": "code",
   "execution_count": 43,
   "metadata": {},
   "outputs": [
    {
     "name": "stdout",
     "output_type": "stream",
     "text": [
      "[[ 10  15  25]\n",
      " [ 20  25  45]\n",
      " [ 30  35  65]\n",
      " [ 40  45  85]\n",
      " [ 50  55 105]\n",
      " [ 60  65 125]\n",
      " [ 70  75 145]\n",
      " [ 80  85 165]\n",
      " [ 90  95 185]]\n"
     ]
    }
   ],
   "source": [
    "print(dataset)"
   ]
  },
  {
   "cell_type": "code",
   "execution_count": 109,
   "metadata": {},
   "outputs": [],
   "source": [
    "a = ([[1, 2, 3]])\n",
    "b = ([[4, 5, 6]])"
   ]
  },
  {
   "cell_type": "code",
   "execution_count": 112,
   "metadata": {},
   "outputs": [],
   "source": [
    "c = np.concatenate((a, b))"
   ]
  },
  {
   "cell_type": "code",
   "execution_count": 113,
   "metadata": {},
   "outputs": [
    {
     "name": "stdout",
     "output_type": "stream",
     "text": [
      "array([[1, 2, 3],\n",
      "       [4, 5, 6]])\n"
     ]
    }
   ],
   "source": [
    "pprint(c)"
   ]
  },
  {
   "cell_type": "code",
   "execution_count": null,
   "metadata": {},
   "outputs": [],
   "source": []
  }
 ],
 "metadata": {
  "kernelspec": {
   "display_name": "Python 3",
   "language": "python",
   "name": "python3"
  },
  "language_info": {
   "codemirror_mode": {
    "name": "ipython",
    "version": 3
   },
   "file_extension": ".py",
   "mimetype": "text/x-python",
   "name": "python",
   "nbconvert_exporter": "python",
   "pygments_lexer": "ipython3",
   "version": "3.6.8"
  }
 },
 "nbformat": 4,
 "nbformat_minor": 2
}
