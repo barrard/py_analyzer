{
 "cells": [
  {
   "cell_type": "code",
   "execution_count": 16,
   "metadata": {},
   "outputs": [],
   "source": [
    "import db\n",
    "import LSTM_utils\n",
    "import pprint\n",
    "import json\n",
    "from pprint import pprint\n",
    "\n",
    "def split_sequence(sequence, n_steps):\n",
    "    X, y = list(), list()\n",
    "    for i in range(len(sequence)):\n",
    "        # find the end of this pattern\n",
    "        end_ix = i + n_steps\n",
    "        # check if we are beyond the sequence\n",
    "        if end_ix > len(sequence)-1:\n",
    "            break\n",
    "        # gather input and output parts of the pattern\n",
    "        seq_x, seq_y = sequence[i:end_ix], sequence[end_ix]\n",
    "        x_values, y_value = array(), array()\n",
    "        print(x_values)\n",
    "        print(seq_x)\n",
    "        X.append(seq_x)\n",
    "        y.append(seq_y)\n",
    "    return array(X), array(y)\n",
    "\n",
    "\n",
    "\n",
    "\n",
    "\n"
   ]
  },
  {
   "cell_type": "code",
   "execution_count": 17,
   "metadata": {},
   "outputs": [],
   "source": [
    "data = db.get_symbol('/ES', 100)\n",
    "\n",
    "n_steps = 20\n",
    "\n",
    "\"\"\" Split the data into sequences \"\"\"\n",
    "X, y, = LSTM_utils.split_sequence(data, n_steps)\n",
    "\n",
    "\n"
   ]
  },
  {
   "cell_type": "code",
   "execution_count": 18,
   "metadata": {},
   "outputs": [
    {
     "name": "stdout",
     "output_type": "stream",
     "text": [
      "[[{'high': 2923.75, 'low': 2923.75, 'open': 2923.75, 'close': 2923.75, 'volume': 1.0}\n",
      "  {'high': 2923.75, 'low': 2923.75, 'open': 2923.75, 'close': 2923.75, 'volume': 1.0}\n",
      "  {'high': 2922.5, 'low': 2921.75, 'open': 2922.25, 'close': 2922.25, 'volume': 940}\n",
      "  ...\n",
      "  {'high': 2922.5, 'low': 2921.75, 'open': 2922, 'close': 2922.25, 'volume': 1253}\n",
      "  {'high': 2923, 'low': 2922, 'open': 2922.5, 'close': 2922.25, 'volume': 1628}\n",
      "  {'high': 2923, 'low': 2922.25, 'open': 2923, 'close': 2922.5, 'volume': 1666}]\n",
      " [{'high': 2923.75, 'low': 2923.75, 'open': 2923.75, 'close': 2923.75, 'volume': 1.0}\n",
      "  {'high': 2922.5, 'low': 2921.75, 'open': 2922.25, 'close': 2922.25, 'volume': 940}\n",
      "  {'high': 2922.75, 'low': 2922.25, 'open': 2922.5, 'close': 2922.25, 'volume': 633}\n",
      "  ...\n",
      "  {'high': 2923, 'low': 2922, 'open': 2922.5, 'close': 2922.25, 'volume': 1628}\n",
      "  {'high': 2923, 'low': 2922.25, 'open': 2923, 'close': 2922.5, 'volume': 1666}\n",
      "  {'high': 2924.25, 'low': 2923.25, 'open': 2924, 'close': 2923.25, 'volume': 1123}]\n",
      " [{'high': 2922.5, 'low': 2921.75, 'open': 2922.25, 'close': 2922.25, 'volume': 940}\n",
      "  {'high': 2922.75, 'low': 2922.25, 'open': 2922.5, 'close': 2922.25, 'volume': 633}\n",
      "  {'high': 2923, 'low': 2922.5, 'open': 2923, 'close': 2922.5, 'volume': 966}\n",
      "  ...\n",
      "  {'high': 2923, 'low': 2922.25, 'open': 2923, 'close': 2922.5, 'volume': 1666}\n",
      "  {'high': 2924.25, 'low': 2923.25, 'open': 2924, 'close': 2923.25, 'volume': 1123}\n",
      "  {'high': 2924.5, 'low': 2923.75, 'open': 2924.25, 'close': 2924, 'volume': 805}]\n",
      " ...\n",
      " [{'high': 2925, 'low': 2923.75, 'open': 2925, 'close': 2924.75, 'volume': 2356}\n",
      "  {'high': 2926.25, 'low': 2925.5, 'open': 2926, 'close': 2925.75, 'volume': 680}\n",
      "  {'high': 2926.25, 'low': 2925.75, 'open': 2926, 'close': 2926, 'volume': 1115}\n",
      "  ...\n",
      "  {'high': 2923.5, 'low': 2923, 'open': 2923.25, 'close': 2923.5, 'volume': 1117}\n",
      "  {'high': 2923.5, 'low': 2920.75, 'open': 2920.75, 'close': 2923.5, 'volume': 2654}\n",
      "  {'high': 2921.75, 'low': 2920.75, 'open': 2921.25, 'close': 2920.75, 'volume': 3954}]\n",
      " [{'high': 2926.25, 'low': 2925.5, 'open': 2926, 'close': 2925.75, 'volume': 680}\n",
      "  {'high': 2926.25, 'low': 2925.75, 'open': 2926, 'close': 2926, 'volume': 1115}\n",
      "  {'high': 2925.75, 'low': 2925.25, 'open': 2925.5, 'close': 2925.5, 'volume': 505}\n",
      "  ...\n",
      "  {'high': 2923.5, 'low': 2920.75, 'open': 2920.75, 'close': 2923.5, 'volume': 2654}\n",
      "  {'high': 2921.75, 'low': 2920.75, 'open': 2921.25, 'close': 2920.75, 'volume': 3954}\n",
      "  {'high': 2923.5, 'low': 2921.5, 'open': 2923.25, 'close': 2921.5, 'volume': 2548}]\n",
      " [{'high': 2926.25, 'low': 2925.75, 'open': 2926, 'close': 2926, 'volume': 1115}\n",
      "  {'high': 2925.75, 'low': 2925.25, 'open': 2925.5, 'close': 2925.5, 'volume': 505}\n",
      "  {'high': 2925.75, 'low': 2925.25, 'open': 2925.5, 'close': 2925.5, 'volume': 615}\n",
      "  ...\n",
      "  {'high': 2921.75, 'low': 2920.75, 'open': 2921.25, 'close': 2920.75, 'volume': 3954}\n",
      "  {'high': 2923.5, 'low': 2921.5, 'open': 2923.25, 'close': 2921.5, 'volume': 2548}\n",
      "  {'high': 2924.5, 'low': 2923.5, 'open': 2923.75, 'close': 2923.5, 'volume': 2304}]]\n"
     ]
    }
   ],
   "source": [
    "print(X)"
   ]
  },
  {
   "cell_type": "code",
   "execution_count": null,
   "metadata": {},
   "outputs": [],
   "source": []
  },
  {
   "cell_type": "code",
   "execution_count": null,
   "metadata": {},
   "outputs": [],
   "source": []
  }
 ],
 "metadata": {
  "kernelspec": {
   "display_name": "Python 3",
   "language": "python",
   "name": "python3"
  },
  "language_info": {
   "codemirror_mode": {
    "name": "ipython",
    "version": 3
   },
   "file_extension": ".py",
   "mimetype": "text/x-python",
   "name": "python",
   "nbconvert_exporter": "python",
   "pygments_lexer": "ipython3",
   "version": "3.6.8"
  }
 },
 "nbformat": 4,
 "nbformat_minor": 2
}
